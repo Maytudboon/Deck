{
 "cells": [
  {
   "cell_type": "markdown",
   "metadata": {},
   "source": [
    "# Object Orientated Programming Practice\n",
    "\n",
    "Utilizing instructions from: https://www.rithmschool.com/courses/python-fundamentals-part-2/python-object-oriented-programming-exercises"
   ]
  },
  {
   "cell_type": "code",
   "execution_count": 2,
   "metadata": {},
   "outputs": [],
   "source": [
    "import numpy as np"
   ]
  },
  {
   "cell_type": "code",
   "execution_count": 3,
   "metadata": {},
   "outputs": [],
   "source": [
    "class card():\n",
    "    \n",
    "    def __init__(self, suit, value):\n",
    "        \"\"\"Initializes a card object saving suit and value\"\"\"\n",
    "        self.suit = suit\n",
    "        self.value = value\n",
    "    \n",
    "    def __str__(self):\n",
    "        \"\"\"dunder method to print out what the card is\"\"\"\n",
    "        return(\"{} of {}\".format(self.value, self.suit))"
   ]
  },
  {
   "cell_type": "code",
   "execution_count": 14,
   "metadata": {},
   "outputs": [],
   "source": [
    "class Deck():\n",
    "    \n",
    "    def __init__(self):\n",
    "        \"\"\"Initializes a deck object with an empty list of cards\"\"\"\n",
    "        self.cards = []\n",
    "    \n",
    "    def deal(self):\n",
    "        \"\"\"Randomly selects a card from the deck object, state what it is, then remove it from the deck object\"\"\"\n",
    "        picked = np.random.choice(self.cards)\n",
    "        \n",
    "        self.cards.remove(picked)\n",
    "        \n",
    "        print(\"{} was dealt\".format(picked))\n",
    "        \n",
    "    def shuffle(self):\n",
    "        \"\"\"reset the deck object with a full set of randomly arranged cards\"\"\"\n",
    "        \n",
    "        # All the parameters of possible cards\n",
    "        suits = [\"Hearts\", \"Diamonds\", \"Clubs\", \"Spades\"]\n",
    "        values = [\"A\",\"2\",\"3\",\"4\",\"5\",\"6\",\"7\",\"8\",\"9\",\"10\",\"J\",\"Q\",\"K\"]\n",
    "        \n",
    "        self.cards = []\n",
    "        for suit in suits:\n",
    "            for value in values:\n",
    "                self.cards.append(card(suit,value))   \n",
    "                \n",
    "        np.random.shuffle(self.cards)\n",
    "        "
   ]
  },
  {
   "cell_type": "code",
   "execution_count": 29,
   "metadata": {},
   "outputs": [],
   "source": [
    "# Creates a Deck object then fill it with shuffled cards\n",
    "deck1 = Deck()\n",
    "deck1.shuffle()"
   ]
  },
  {
   "cell_type": "code",
   "execution_count": 30,
   "metadata": {},
   "outputs": [
    {
     "name": "stdout",
     "output_type": "stream",
     "text": [
      "J of Spades was dealt\n",
      "2 of Hearts was dealt\n",
      "9 of Diamonds was dealt\n",
      "7 of Diamonds was dealt\n",
      "3 of Spades was dealt\n"
     ]
    }
   ],
   "source": [
    "# Deal a hand of cards\n",
    "for i in range(5):\n",
    "    deck1.deal()"
   ]
  },
  {
   "cell_type": "code",
   "execution_count": 27,
   "metadata": {},
   "outputs": [],
   "source": [
    "deck1.shuffle()"
   ]
  },
  {
   "cell_type": "code",
   "execution_count": null,
   "metadata": {},
   "outputs": [],
   "source": []
  },
  {
   "cell_type": "code",
   "execution_count": null,
   "metadata": {},
   "outputs": [],
   "source": []
  }
 ],
 "metadata": {
  "kernelspec": {
   "display_name": "Python 3",
   "language": "python",
   "name": "python3"
  },
  "language_info": {
   "codemirror_mode": {
    "name": "ipython",
    "version": 3
   },
   "file_extension": ".py",
   "mimetype": "text/x-python",
   "name": "python",
   "nbconvert_exporter": "python",
   "pygments_lexer": "ipython3",
   "version": "3.6.6"
  }
 },
 "nbformat": 4,
 "nbformat_minor": 2
}
